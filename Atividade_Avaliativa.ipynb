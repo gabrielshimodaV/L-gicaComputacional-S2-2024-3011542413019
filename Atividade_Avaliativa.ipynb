{
  "nbformat": 4,
  "nbformat_minor": 0,
  "metadata": {
    "colab": {
      "provenance": [],
      "authorship_tag": "ABX9TyMRVPfXRC36KxtIbkFpNXAh"
    },
    "kernelspec": {
      "name": "python3",
      "display_name": "Python 3"
    },
    "language_info": {
      "name": "python"
    }
  },
  "cells": [
    {
      "cell_type": "code",
      "execution_count": 1,
      "metadata": {
        "id": "ryid1nnENyVF"
      },
      "outputs": [],
      "source": [
        "# Dilema Construtivo (DC) - ((P → Q) ∧ (R → S) ∧ (P V R)) → (Q V S)\n"
      ]
    },
    {
      "cell_type": "code",
      "source": [
        "print(f\"P | Q | R | S | P→Q | R→S | (P→Q)∧(R→S) | PVR | ((P→Q)∧(R→S)∧(PVR)) | QVS | ((P→Q)∧(R→S)∧(PVR))→(QVS)\")\n",
        "for a in range(0, 2, 1):\n",
        "  for b in range(0, 2, 1):\n",
        "    for c in range(0, 2, 1):\n",
        "      for d in range(0, 2, 1):\n",
        "        if a==0:\n",
        "          P=\"V\"\n",
        "        else:\n",
        "          P=\"F\"\n",
        "        if b==0:\n",
        "          Q=\"V\"\n",
        "        else:\n",
        "          Q=\"F\"\n",
        "        if c==0:\n",
        "          R=\"V\"\n",
        "        else:\n",
        "          R=\"F\"\n",
        "        if d==0:\n",
        "          S=\"V\"\n",
        "        else:\n",
        "          S=\"F\"\n",
        "        if P==\"V\" and Q==\"F\":\n",
        "          PQ=\"F\"\n",
        "        else:\n",
        "          PQ=\"V\"\n",
        "        if R==\"V\" and S==\"F\":\n",
        "          RS=\"F\"\n",
        "        else:\n",
        "          RS=\"V\"\n",
        "        if PQ==\"V\" and RS==\"V\":\n",
        "          PQRS=\"V\"\n",
        "        else:\n",
        "          PQRS=\"F\"\n",
        "        if P==\"F\" and R==\"F\":\n",
        "          PR=\"F\"\n",
        "        else:\n",
        "          PR=\"V\"\n",
        "        if PQRS==\"V\" and PR==\"V\":\n",
        "          PQRSPR=\"V\"\n",
        "        else:\n",
        "          PQRSPR=\"F\"\n",
        "        if Q==\"F\" and S==\"F\":\n",
        "          QS=\"F\"\n",
        "        else:\n",
        "          QS=\"V\"\n",
        "        if PQRSPR==\"V\" and QS==\"F\":\n",
        "          print(f\"{P} | {Q} | {R} | {S} |  {PQ}  |  {RS}  |      {PQRS}      |  {PR}  |          {PQRSPR}          |  {QS}  |       F\")\n",
        "        else:\n",
        "          print(f\"{P} | {Q} | {R} | {S} |  {PQ}  |  {RS}  |      {PQRS}      |  {PR}  |          {PQRSPR}          |  {QS}  |       V\")\n",
        "#TrabalhoFinalizado"
      ],
      "metadata": {
        "colab": {
          "base_uri": "https://localhost:8080/"
        },
        "id": "ioTCRQNTOvOR",
        "outputId": "bc19b317-eca0-4dff-e69c-263b272df760"
      },
      "execution_count": 14,
      "outputs": [
        {
          "output_type": "stream",
          "name": "stdout",
          "text": [
            "P | Q | R | S | P→Q | R→S | (P→Q)∧(R→S) | PVR | ((P→Q)∧(R→S)∧(PVR)) | QVS | ((P→Q)∧(R→S)∧(PVR))→(QVS)\n",
            "V | V | V | V |  V  |  V  |      V      |  V  |          V          |  V  |       V\n",
            "V | V | V | F |  V  |  F  |      F      |  V  |          F          |  V  |       V\n",
            "V | V | F | V |  V  |  V  |      V      |  V  |          V          |  V  |       V\n",
            "V | V | F | F |  V  |  V  |      V      |  V  |          V          |  V  |       V\n",
            "V | F | V | V |  F  |  V  |      F      |  V  |          F          |  V  |       V\n",
            "V | F | V | F |  F  |  F  |      F      |  V  |          F          |  F  |       V\n",
            "V | F | F | V |  F  |  V  |      F      |  V  |          F          |  V  |       V\n",
            "V | F | F | F |  F  |  V  |      F      |  V  |          F          |  F  |       V\n",
            "F | V | V | V |  V  |  V  |      V      |  V  |          V          |  V  |       V\n",
            "F | V | V | F |  V  |  F  |      F      |  V  |          F          |  V  |       V\n",
            "F | V | F | V |  V  |  V  |      V      |  F  |          F          |  V  |       V\n",
            "F | V | F | F |  V  |  V  |      V      |  F  |          F          |  V  |       V\n",
            "F | F | V | V |  V  |  V  |      V      |  V  |          V          |  V  |       V\n",
            "F | F | V | F |  V  |  F  |      F      |  V  |          F          |  F  |       V\n",
            "F | F | F | V |  V  |  V  |      V      |  F  |          F          |  V  |       V\n",
            "F | F | F | F |  V  |  V  |      V      |  F  |          F          |  F  |       V\n"
          ]
        }
      ]
    },
    {
      "cell_type": "code",
      "source": [],
      "metadata": {
        "id": "HIazrlXGQ6b7"
      },
      "execution_count": null,
      "outputs": []
    }
  ]
}